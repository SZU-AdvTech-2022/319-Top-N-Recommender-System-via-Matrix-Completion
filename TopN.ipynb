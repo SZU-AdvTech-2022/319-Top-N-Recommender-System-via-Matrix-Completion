{
 "cells": [
  {
   "cell_type": "code",
   "execution_count": 1,
   "metadata": {
    "collapsed": true
   },
   "outputs": [],
   "source": [
    "import numpy as np\n",
    "import paddle\n",
    "import paddle.fluid as fluid\n",
    "user_num = int(943)         #m\n",
    "item_num = int(1682)        #n\n",
    "mu = float(6e-3)\n",
    "learn_rate = float(2.5)\n",
    "iterations = int(20)"
   ]
  },
  {
   "cell_type": "code",
   "execution_count": 2,
   "metadata": {
    "pycharm": {
     "name": "#%%\n"
    }
   },
   "outputs": [],
   "source": [
    "def generate(filename):\n",
    "    M = np.zeros(shape=(943+1, 1682+1))\n",
    "    with open(filename) as f:       # 打开指定文件\n",
    "        lines = f.readlines()\n",
    "        for line in lines:\n",
    "            (userid, movieid, rating, ts) = line.split('\\t')  # 数据集中每行有4项   用户ID，电影ID，评分，时间戳\n",
    "            # 只取前三个\n",
    "            uid = int(userid)\n",
    "            mid = int(movieid)\n",
    "            rat = float(rating)\n",
    "            M[uid, mid] = rat\n",
    "    # print(M)\n",
    "    return M\n"
   ]
  },
  {
   "cell_type": "code",
   "execution_count": 3,
   "outputs": [],
   "source": [
    "def update_X(X, M):     #时间过多\n",
    "    x = paddle.to_tensor(X)\n",
    "    m = paddle.to_tensor(M)\n",
    "    # print(x)\n",
    "    # print(m)\n",
    "    X = paddle.where(m > 0, m, x)\n",
    "    return X"
   ],
   "metadata": {
    "collapsed": false,
    "pycharm": {
     "name": "#%%\n"
    }
   }
  },
  {
   "cell_type": "code",
   "execution_count": 4,
   "outputs": [],
   "source": [
    "def update_Y(X, Z, mu):\n",
    "\n",
    "    T = Z / mu\n",
    "    T = T + X\n",
    "    Y = paddle.maximum(T, paddle.zeros_like(T))\n",
    "    return Y"
   ],
   "metadata": {
    "collapsed": false,
    "pycharm": {
     "name": "#%%\n"
    }
   }
  },
  {
   "cell_type": "code",
   "execution_count": 5,
   "outputs": [],
   "source": [
    "def update_Z(X, Y, Z, mu):\n",
    "    T = X - Y\n",
    "    T = T * mu\n",
    "    return Z + T"
   ],
   "metadata": {
    "collapsed": false,
    "pycharm": {
     "name": "#%%\n"
    }
   }
  },
  {
   "cell_type": "code",
   "execution_count": 6,
   "outputs": [],
   "source": [
    "def update_mu(mu):\n",
    "    return mu * learn_rate"
   ],
   "metadata": {
    "collapsed": false,
    "pycharm": {
     "name": "#%%\n"
    }
   }
  },
  {
   "cell_type": "code",
   "execution_count": 7,
   "outputs": [],
   "source": [
    "def generate_HR_k(ans, X, M, k):\n",
    "    #ans, X: m*n\n",
    "    ans = paddle.to_tensor(ans)\n",
    "    predicts = paddle.where(M > 0, paddle.zeros_like(M), X)\n",
    "    value_1, indices_1 = paddle.topk(ans, k=k)\n",
    "    value_2, indices_2 = paddle.topk(predicts, k=k)\n",
    "    print(indices_1)\n",
    "    print(indices_2)\n",
    "    sum = 0.0\n",
    "    for user in range(user_num+1):\n",
    "        for j in range(k):\n",
    "            # print(indices_2[user][j])\n",
    "            # print(indices_1[user][:10])\n",
    "            # print(indices_2[user][j] in indices_1[user][:10])\n",
    "            if indices_2[user][j] in indices_1[user][:k]:\n",
    "                sum += 1.0\n",
    "                break\n",
    "    print(\"HR\",sum)\n",
    "    return sum / user_num"
   ],
   "metadata": {
    "collapsed": false,
    "pycharm": {
     "name": "#%%\n"
    }
   }
  },
  {
   "cell_type": "code",
   "execution_count": 8,
   "outputs": [],
   "source": [
    "def generate_ARHR_k(ans, X, M, k):\n",
    "    #ans, X: m*n\n",
    "    ans = paddle.to_tensor(ans)\n",
    "    predicts = paddle.where(M > 0, paddle.zeros_like(M), X)\n",
    "    value_1, indices_1 = paddle.topk(ans, k=k)\n",
    "    value_2, indices_2 = paddle.topk(predicts, k=k)\n",
    "    # print(indices_1)\n",
    "    # print(indices_2)\n",
    "    sum = 0.0\n",
    "    for user in range(user_num+1):\n",
    "        for j in range(k):\n",
    "            # print(indices_2[user][j])\n",
    "            # print(indices_1[user][:10])\n",
    "            # print(indices_2[user][j] in indices_1[user][:10])\n",
    "            if indices_2[user][j] in indices_1[user][:k]:\n",
    "                sum += 1.0 / (j+1)\n",
    "                break\n",
    "    print(\"ARHR\",sum)\n",
    "    return sum / user_num"
   ],
   "metadata": {
    "collapsed": false,
    "pycharm": {
     "name": "#%%\n"
    }
   }
  },
  {
   "cell_type": "code",
   "execution_count": 9,
   "metadata": {
    "collapsed": true,
    "pycharm": {
     "name": "#%%\n"
    }
   },
   "outputs": [],
   "source": [
    "with fluid.dygraph.guard():\n",
    "    M = generate(filename=\"ml-100k/u5.base\")\n",
    "    M = paddle.to_tensor(M)\n",
    "    ans = generate(filename=\"ml-100k/u5.test\")\n",
    "    ans = paddle.to_tensor(ans)\n",
    "    # print(M)\n",
    "    X = paddle.ones_like(paddle.to_tensor(M))\n",
    "    X = update_X(X,M)\n",
    "    # print(X)\n",
    "    Y = paddle.clone(M)                                              #Y0 = M\n",
    "    # print(Y)\n",
    "    Z = paddle.zeros(shape=(943+1, 1682+1), dtype='float64')         #Z0 = 0\n"
   ]
  },
  {
   "cell_type": "code",
   "execution_count": 10,
   "outputs": [
    {
     "name": "stdout",
     "output_type": "stream",
     "text": [
      "finish iteration 0\n",
      "finish iteration 1\n",
      "finish iteration 2\n",
      "finish iteration 3\n",
      "finish iteration 4\n",
      "finish iteration 5\n",
      "finish iteration 6\n",
      "finish iteration 7\n",
      "finish iteration 8\n",
      "finish iteration 9\n",
      "finish iteration 10\n",
      "finish iteration 11\n",
      "finish iteration 12\n",
      "finish iteration 13\n",
      "finish iteration 14\n",
      "finish iteration 15\n",
      "finish iteration 16\n",
      "finish iteration 17\n",
      "finish iteration 18\n",
      "finish iteration 19\n",
      "Tensor(shape=[944, 10], dtype=int64, place=Place(cpu), stop_gradient=True,\n",
      "       [[8  , 9  , 4  , ..., 0  , 2  , 6  ],\n",
      "        [59 , 19 , 152, ..., 111, 13 , 52 ],\n",
      "        [302, 275, 286, ..., 1  , 4  , 9  ],\n",
      "        ...,\n",
      "        [1  , 298, 919, ..., 455, 257, 15 ],\n",
      "        [197, 99 , 215, ..., 282, 97 , 71 ],\n",
      "        [42 , 69 , 79 , ..., 173, 64 , 2  ]])\n",
      "Tensor(shape=[944, 10], dtype=int64, place=Place(cpu), stop_gradient=True,\n",
      "       [[302 , 258 , 353 , ..., 93  , 327 , 288 ],\n",
      "        [231 , 172 , 474 , ..., 461 , 204 , 423 ],\n",
      "        [275 , 286 , 1281, ..., 1009, 126 , 248 ],\n",
      "        ...,\n",
      "        [764 , 1355, 1620, ..., 80  , 1190, 253 ],\n",
      "        [494 , 436 , 662 , ..., 71  , 393 , 631 ],\n",
      "        [1218, 550 , 402 , ..., 1210, 710 , 566 ]])\n",
      "HR 535.0\n",
      "0.5673382820784729\n",
      "ARHR 256.172222222222\n",
      "0.2716566513491219\n"
     ]
    }
   ],
   "source": [
    "with fluid.dygraph.guard():\n",
    "    for iteration in range(iterations):\n",
    "        A = Y\n",
    "        A -= Z / mu\n",
    "        u, s, vh = paddle.linalg.svd(A)\n",
    "        # print(s)\n",
    "        sigma = []\n",
    "        for sigma_A in s:\n",
    "            # delta = (sigma_A + 1)*(sigma_A + 1) - (4.0 / mu)\n",
    "            # if delta < 0.0:\n",
    "            #     sigma.append([0.0])\n",
    "            # else:\n",
    "            #     sigma.append(paddle.tolist((sigma_A -1 + paddle.sqrt(delta) / 2)))\n",
    "            if sigma_A == 0:\n",
    "                sigma.append([0.0])\n",
    "            else:\n",
    "                sigma.append(paddle.tolist((sigma_A - 1) / 2))\n",
    "\n",
    "        # print(sigma)\n",
    "        sigma = paddle.to_tensor(sigma).astype('float64')\n",
    "\n",
    "        sigma = paddle.squeeze(sigma)\n",
    "        # print(sigma)\n",
    "        X = paddle.matmul(u, paddle.diag(sigma))\n",
    "        X = paddle.matmul(X, vh)\n",
    "        # X = u * paddle.diag(sigma) * vh\n",
    "        X = update_X(X, M)\n",
    "        Y = update_Y(X, Z, mu)\n",
    "        Z = update_Z(X, Y, Z, mu)\n",
    "        mu *= learn_rate\n",
    "        print(\"finish iteration\",iteration)\n",
    "        # if(iteration % 100 == 0):\n",
    "        #     error =\n",
    "    print(generate_HR_k(ans, X, M, k=10))\n",
    "    print(generate_ARHR_k(ans, X, M, k=10))"
   ],
   "metadata": {
    "collapsed": false,
    "pycharm": {
     "name": "#%%\n"
    }
   }
  }
 ],
 "metadata": {
  "kernelspec": {
   "display_name": "Python 3 (ipykernel)",
   "language": "python",
   "name": "python3"
  },
  "language_info": {
   "codemirror_mode": {
    "name": "ipython",
    "version": 3
   },
   "file_extension": ".py",
   "mimetype": "text/x-python",
   "name": "python",
   "nbconvert_exporter": "python",
   "pygments_lexer": "ipython3",
   "version": "3.10.7"
  }
 },
 "nbformat": 4,
 "nbformat_minor": 1
}